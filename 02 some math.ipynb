{
 "cells": [
  {
   "cell_type": "markdown",
   "id": "ecd7763c-caa0-4b0a-b1cf-67565ab6d3b6",
   "metadata": {},
   "source": [
    "02 Take values of length and breadth of a rectangle from user and check if it is square or not."
   ]
  },
  {
   "cell_type": "code",
   "execution_count": 1,
   "id": "d07a8fbe-76f2-4d76-bc7c-5a43eb25691f",
   "metadata": {},
   "outputs": [
    {
     "name": "stdin",
     "output_type": "stream",
     "text": [
      "Enter the length: 10\n",
      "Enter the breadth: 5\n"
     ]
    },
    {
     "name": "stdout",
     "output_type": "stream",
     "text": [
      "It is not Square\n"
     ]
    }
   ],
   "source": [
    "length = float(input('Enter the length:'))\n",
    "breadth = float(input('Enter the breadth:'))\n",
    "if breadth==length:\n",
    "    print('Yes, It is Square')\n",
    "else:\n",
    "    print('It is not Square')"
   ]
  },
  {
   "cell_type": "markdown",
   "id": "4b5ddefd-051a-4504-a379-e1ab4add6cf6",
   "metadata": {},
   "source": [
    "03.Take three integer values from user and print greatest among them."
   ]
  },
  {
   "cell_type": "code",
   "execution_count": 7,
   "id": "5adeb2e5-6579-4472-85fa-14ab566a70aa",
   "metadata": {},
   "outputs": [
    {
     "name": "stdin",
     "output_type": "stream",
     "text": [
      "Enter 1st number: 10\n",
      "Enter 2nd number: 14\n",
      "Enter 3rd number: 6\n"
     ]
    },
    {
     "name": "stdout",
     "output_type": "stream",
     "text": [
      "The largest number is 14\n"
     ]
    }
   ],
   "source": [
    "num1= int(input(\"Enter 1st number:\"))\n",
    "num2= int(input(\"Enter 2nd number:\"))\n",
    "num3= int(input(\"Enter 3rd number:\"))\n",
    "\n",
    "if(num1>num2) and (num1>num3):\n",
    "    largest = num1\n",
    "elif(num2>num1) and (num2>num3):\n",
    "    largest=num2\n",
    "else:\n",
    "    largest=num3\n",
    "\n",
    "print(\"The largest number is\",largest)\n"
   ]
  },
  {
   "cell_type": "markdown",
   "id": "511b3870-9d1c-4647-9465-0227f0474063",
   "metadata": {},
   "source": [
    "04.A student will not be allowed to sit in exam if his/her attendence is less than 75%."
   ]
  },
  {
   "cell_type": "code",
   "execution_count": 9,
   "id": "fe84aaa7-435d-4db0-ad92-bd09b41012cd",
   "metadata": {},
   "outputs": [
    {
     "name": "stdin",
     "output_type": "stream",
     "text": [
      "Number of classes held: 100\n",
      "Number of classes attended: 74\n"
     ]
    },
    {
     "name": "stdout",
     "output_type": "stream",
     "text": [
      "You are not allowed\n"
     ]
    }
   ],
   "source": [
    "held = int(input(\"Number of classes held:\"))\n",
    "attended = int (input(\"Number of classes attended:\"))\n",
    "attended_ratio=(attended/held)*100\n",
    "if(attended_ratio>=75):\n",
    "    print(\"Your are allowed\")\n",
    "else:\n",
    "    print(\"You are not allowed\")"
   ]
  },
  {
   "cell_type": "markdown",
   "id": "cf50371d-7de2-4857-bbf4-ba4ec0d2def8",
   "metadata": {},
   "source": [
    "05.A School has following rules for grading system:-\n",
    "Below 25-F\n",
    "25 to 44-E\n",
    "45 to 49-D\n",
    "50 to 59-C\n",
    "60 to 79-B\n",
    "80 to 89-A\n",
    "Above 90-A+\n",
    "Q: Now, Ask user to enter marks and print the corresponding grade."
   ]
  },
  {
   "cell_type": "code",
   "execution_count": 17,
   "id": "7356ce8d-28ec-49d5-82fc-ef02657e6ffe",
   "metadata": {},
   "outputs": [
    {
     "name": "stdin",
     "output_type": "stream",
     "text": [
      "Enter Marks: 80\n"
     ]
    },
    {
     "name": "stdout",
     "output_type": "stream",
     "text": [
      "A Grade\n"
     ]
    }
   ],
   "source": [
    "marks=float(input(\"Enter Marks:\"))\n",
    "if(marks==25):\n",
    "    print(\"You are Genius like me:\")\n",
    "elif(marks>=26)and(marks<=44):\n",
    "    print(\"E Grade, Konomote tenetune pass\")\n",
    "elif(marks>=45)and(marks<=49):\n",
    "    print(\"D Grade\")\n",
    "elif(marks>=50)and(marks<=59):\n",
    "    print(\"C Grade\")\n",
    "elif(marks>=60)and(marks<=79):\n",
    "    print(\"B Grade\")\n",
    "elif(marks>=80)and(marks<=89):\n",
    "    print(\"A Grade\")\n",
    "elif(marks>=90)and(marks<=100):\n",
    "    print(\"A+ Grade\")\n",
    "else:\n",
    "    print(\"You are a loser!!\")\n"
   ]
  }
 ],
 "metadata": {
  "kernelspec": {
   "display_name": "Python 3 (ipykernel)",
   "language": "python",
   "name": "python3"
  },
  "language_info": {
   "codemirror_mode": {
    "name": "ipython",
    "version": 3
   },
   "file_extension": ".py",
   "mimetype": "text/x-python",
   "name": "python",
   "nbconvert_exporter": "python",
   "pygments_lexer": "ipython3",
   "version": "3.13.5"
  }
 },
 "nbformat": 4,
 "nbformat_minor": 5
}
