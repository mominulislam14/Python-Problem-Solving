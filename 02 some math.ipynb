{
 "cells": [
  {
   "cell_type": "markdown",
   "id": "ecd7763c-caa0-4b0a-b1cf-67565ab6d3b6",
   "metadata": {},
   "source": [
    "02 Take values of length and breadth of a rectangle from user and check if it is square or not."
   ]
  },
  {
   "cell_type": "code",
   "execution_count": 1,
   "id": "d07a8fbe-76f2-4d76-bc7c-5a43eb25691f",
   "metadata": {},
   "outputs": [
    {
     "name": "stdin",
     "output_type": "stream",
     "text": [
      "Enter the length: 10\n",
      "Enter the breadth: 5\n"
     ]
    },
    {
     "name": "stdout",
     "output_type": "stream",
     "text": [
      "It is not Square\n"
     ]
    }
   ],
   "source": [
    "length = float(input('Enter the length:'))\n",
    "breadth = float(input('Enter the breadth:'))\n",
    "if breadth==length:\n",
    "    print('Yes, It is Square')\n",
    "else:\n",
    "    print('It is not Square')"
   ]
  }
 ],
 "metadata": {
  "kernelspec": {
   "display_name": "Python 3 (ipykernel)",
   "language": "python",
   "name": "python3"
  },
  "language_info": {
   "codemirror_mode": {
    "name": "ipython",
    "version": 3
   },
   "file_extension": ".py",
   "mimetype": "text/x-python",
   "name": "python",
   "nbconvert_exporter": "python",
   "pygments_lexer": "ipython3",
   "version": "3.13.5"
  }
 },
 "nbformat": 4,
 "nbformat_minor": 5
}
