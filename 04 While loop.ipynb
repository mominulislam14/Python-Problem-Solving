{
 "cells": [
  {
   "cell_type": "markdown",
   "id": "cc933b03-2d2e-450f-9153-30dea1b63942",
   "metadata": {},
   "source": [
    "In python while loop is executed a block of statements repeatedly until a given a condition is satisfied.And when the condition becomes false , the line immediately after the loop in program is executed.\n",
    "\n",
    "while expression:\n",
    "    statement(x)\n",
    "\n",
    "exmaple:\n",
    "count = 0\n",
    "while(count<5):\n",
    "    count = count + 1;\n",
    "    print(\"Study mart\")"
   ]
  },
  {
   "cell_type": "code",
   "execution_count": 4,
   "id": "8463a7a4-fd71-433e-805b-2387b49074aa",
   "metadata": {},
   "outputs": [
    {
     "name": "stdout",
     "output_type": "stream",
     "text": [
      "Study mart\n",
      "Study mart\n",
      "Study mart\n",
      "Study mart\n",
      "Study mart\n"
     ]
    }
   ],
   "source": [
    "count = 0\n",
    "while(count<5):\n",
    "    count = count + 1\n",
    "    print(\"Study mart\")"
   ]
  },
  {
   "cell_type": "code",
   "execution_count": 5,
   "id": "bb6d34dc-8081-4bb3-87cb-17fb80464861",
   "metadata": {},
   "outputs": [
    {
     "name": "stdout",
     "output_type": "stream",
     "text": [
      "0\n",
      "1\n",
      "2\n",
      "3\n",
      "4\n",
      "5\n",
      "6\n",
      "7\n",
      "8\n",
      "9\n",
      "10\n"
     ]
    }
   ],
   "source": [
    "i=0\n",
    "while(i<=10):\n",
    "    print(i)\n",
    "    i+=1;"
   ]
  },
  {
   "cell_type": "code",
   "execution_count": 6,
   "id": "af4bf623-0745-4e4e-97bb-4324e2e86f95",
   "metadata": {},
   "outputs": [
    {
     "name": "stdout",
     "output_type": "stream",
     "text": [
      "0 Mominul Islam\n",
      "1 Mominul Islam\n",
      "2 Mominul Islam\n",
      "3 Mominul Islam\n",
      "4 Mominul Islam\n",
      "5 Mominul Islam\n",
      "6 Mominul Islam\n",
      "7 Mominul Islam\n",
      "8 Mominul Islam\n",
      "9 Mominul Islam\n",
      "10 Mominul Islam\n"
     ]
    }
   ],
   "source": [
    "i=0\n",
    "while(i<=10):\n",
    "    print(i,'Mominul Islam')\n",
    "    i+=1;"
   ]
  },
  {
   "cell_type": "code",
   "execution_count": 7,
   "id": "6476ab5d-fb92-4ce0-92bc-9c3d4d8899f4",
   "metadata": {},
   "outputs": [
    {
     "data": {
      "text/plain": [
       "'p'"
      ]
     },
     "execution_count": 7,
     "metadata": {},
     "output_type": "execute_result"
    }
   ],
   "source": [
    "data = 'python'\n",
    "data[0]"
   ]
  },
  {
   "cell_type": "code",
   "execution_count": 10,
   "id": "00d00d15-5ebb-45f3-a261-89f86903af67",
   "metadata": {},
   "outputs": [
    {
     "name": "stdout",
     "output_type": "stream",
     "text": [
      "p\n",
      "y\n",
      "t\n",
      "h\n",
      "o\n",
      "n\n"
     ]
    }
   ],
   "source": [
    "index=0\n",
    "while(index<len(data)):\n",
    "    print(data[index])\n",
    "    index = index+1"
   ]
  },
  {
   "cell_type": "code",
   "execution_count": 11,
   "id": "92663d81-1854-4f9a-9482-8792dcbdce2c",
   "metadata": {},
   "outputs": [
    {
     "name": "stdout",
     "output_type": "stream",
     "text": [
      "i\n",
      " \n",
      "l\n",
      "o\n",
      "v\n",
      "e\n",
      " \n",
      "d\n",
      "a\n",
      "t\n",
      "a\n",
      " \n",
      "s\n",
      "c\n",
      "i\n",
      "e\n",
      "n\n",
      "c\n",
      "e\n",
      " \n",
      "s\n",
      "o\n",
      " \n",
      "m\n",
      "u\n",
      "c\n",
      "h\n"
     ]
    }
   ],
   "source": [
    "data = 'i love data science so much'\n",
    "index=0\n",
    "while(index<len(data)):\n",
    "    print(data[index])\n",
    "    index = index+1"
   ]
  },
  {
   "cell_type": "code",
   "execution_count": 12,
   "id": "988c3f55-2e08-4b6f-8408-31acec5396e6",
   "metadata": {},
   "outputs": [
    {
     "name": "stdout",
     "output_type": "stream",
     "text": [
      "i\n",
      "love\n",
      "data\n",
      "science\n",
      "so\n",
      "much\n"
     ]
    }
   ],
   "source": [
    "data = 'i love data science so much'\n",
    "data = data.split()\n",
    "index=0\n",
    "while(index<len(data)):\n",
    "    print(data[index])\n",
    "    index += 1"
   ]
  },
  {
   "cell_type": "code",
   "execution_count": 13,
   "id": "9ddcdd64-3153-4e70-9195-9c6280c6e29a",
   "metadata": {},
   "outputs": [
    {
     "data": {
      "text/plain": [
       "'much'"
      ]
     },
     "execution_count": 13,
     "metadata": {},
     "output_type": "execute_result"
    }
   ],
   "source": [
    "data[-1]"
   ]
  },
  {
   "cell_type": "code",
   "execution_count": 14,
   "id": "609f615c-48bb-451d-97a6-9da1a5110588",
   "metadata": {},
   "outputs": [
    {
     "name": "stdout",
     "output_type": "stream",
     "text": [
      "0 2\n",
      "1 5\n",
      "2 9\n",
      "3 64\n",
      "4 124\n",
      "5 201\n",
      "6 301\n"
     ]
    }
   ],
   "source": [
    "n = [2,3,4,55,60,77,100]\n",
    "total = 0\n",
    "index = 0\n",
    "while(index<len(n)):\n",
    "    total = total + n[index]\n",
    "    print(index,total)\n",
    "    index +=1"
   ]
  },
  {
   "cell_type": "code",
   "execution_count": 15,
   "id": "af9ddb88-9b26-4b6f-9c2b-8a7d263d02f8",
   "metadata": {},
   "outputs": [
    {
     "name": "stdout",
     "output_type": "stream",
     "text": [
      "301\n"
     ]
    }
   ],
   "source": [
    "n = [2,3,4,55,60,77,100]\n",
    "total = 0\n",
    "index = 0\n",
    "while(index<len(n)):\n",
    "    total = total + n[index]\n",
    "    #print(index,total)\n",
    "    index +=1\n",
    "print(total)"
   ]
  }
 ],
 "metadata": {
  "kernelspec": {
   "display_name": "Python 3 (ipykernel)",
   "language": "python",
   "name": "python3"
  },
  "language_info": {
   "codemirror_mode": {
    "name": "ipython",
    "version": 3
   },
   "file_extension": ".py",
   "mimetype": "text/x-python",
   "name": "python",
   "nbconvert_exporter": "python",
   "pygments_lexer": "ipython3",
   "version": "3.13.5"
  }
 },
 "nbformat": 4,
 "nbformat_minor": 5
}
