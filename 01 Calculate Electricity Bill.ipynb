{
 "cells": [
  {
   "cell_type": "markdown",
   "id": "a117e74f-c17f-485e-8a6f-85cbfe4cdddb",
   "metadata": {},
   "source": [
    "01.Write a program to calculate the electricity bill (accept number of unit from user) according to the following criteria.\n",
    "\n",
    "First 100 units------------no charge \n",
    "Next 100 units-------------BDT 5 per unit\n",
    "After 200 units-------------BDT 10 per unit (Extra 500 will be added)\n",
    "(For example if input unit is 350 than total bill amount is BDT 2000)"
   ]
  },
  {
   "cell_type": "code",
   "execution_count": 1,
   "id": "b8a638ad-8c34-4cbd-8927-396a6c71dbc0",
   "metadata": {},
   "outputs": [
    {
     "name": "stdin",
     "output_type": "stream",
     "text": [
      "Enter your unit value :  350\n"
     ]
    },
    {
     "name": "stdout",
     "output_type": "stream",
     "text": [
      "Amount is  2000.0\n"
     ]
    }
   ],
   "source": [
    "amount = 0\n",
    "\n",
    "net_units = float(input('Enter your unit value : '))\n",
    "\n",
    "if net_units <= 100:\n",
    "    amonut = 0\n",
    "    \n",
    "    \n",
    "elif net_units > 100 and net_units <= 200:\n",
    "    amount = (net_units - 100) * 5\n",
    "    \n",
    "\n",
    "elif net_units>200:\n",
    "    amount = ((net_units - 200) *10) + 500\n",
    "\n",
    "print('Amount is ',amount)"
   ]
  },
  {
   "cell_type": "code",
   "execution_count": null,
   "id": "b7e68a8a-daeb-460d-a043-ff7e49696e56",
   "metadata": {},
   "outputs": [],
   "source": []
  }
 ],
 "metadata": {
  "kernelspec": {
   "display_name": "Python 3 (ipykernel)",
   "language": "python",
   "name": "python3"
  },
  "language_info": {
   "codemirror_mode": {
    "name": "ipython",
    "version": 3
   },
   "file_extension": ".py",
   "mimetype": "text/x-python",
   "name": "python",
   "nbconvert_exporter": "python",
   "pygments_lexer": "ipython3",
   "version": "3.13.5"
  }
 },
 "nbformat": 4,
 "nbformat_minor": 5
}
