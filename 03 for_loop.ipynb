{
 "cells": [
  {
   "cell_type": "markdown",
   "id": "00c61039-82fc-42bd-9151-a3ad6d21e037",
   "metadata": {},
   "source": [
    "Display number from -100 to -10 using for loop."
   ]
  },
  {
   "cell_type": "code",
   "execution_count": 2,
   "id": "42924f73-2dde-4134-ba92-25529cb9e97b",
   "metadata": {},
   "outputs": [
    {
     "name": "stdout",
     "output_type": "stream",
     "text": [
      "-100\n",
      "-99\n",
      "-98\n",
      "-97\n",
      "-96\n",
      "-95\n",
      "-94\n",
      "-93\n",
      "-92\n",
      "-91\n"
     ]
    }
   ],
   "source": [
    "for x in range(-100,-90):\n",
    "    print(x)"
   ]
  },
  {
   "cell_type": "markdown",
   "id": "02812c87-1eb6-488a-9b0c-23e1beba8b4f",
   "metadata": {},
   "source": [
    "Write a program to sum all prime numbers within a range 10 to 1000."
   ]
  },
  {
   "cell_type": "code",
   "execution_count": 3,
   "id": "e37d7064-7ebd-4a30-b798-927f267f3fc3",
   "metadata": {},
   "outputs": [
    {
     "name": "stdout",
     "output_type": "stream",
     "text": [
      "Sum of prime numbers from 10 to 1000 is: 76110\n"
     ]
    }
   ],
   "source": [
    "def is_prime(n):\n",
    "    if n < 2:\n",
    "        return False\n",
    "    for i in range(2, int(n**0.5) + 1):\n",
    "        if n % i == 0:\n",
    "            return False\n",
    "    return True\n",
    "\n",
    "def sum_primes(start, end):\n",
    "    return sum(num for num in range(start, end + 1) if is_prime(num))\n",
    "\n",
    "# Define the range\n",
    "start = 10\n",
    "end = 1000\n",
    "\n",
    "# Calculate and print the sum of primes\n",
    "total = sum_primes(start, end)\n",
    "print(f\"Sum of prime numbers from {start} to {end} is: {total}\")"
   ]
  },
  {
   "cell_type": "markdown",
   "id": "45be0b1b-315c-409a-a793-f9f2656e46f0",
   "metadata": {},
   "source": [
    "Find the factorial of n! "
   ]
  },
  {
   "cell_type": "code",
   "execution_count": 4,
   "id": "457a07db-9c3b-4b50-8ab1-32a5b90a4e6c",
   "metadata": {},
   "outputs": [
    {
     "name": "stdout",
     "output_type": "stream",
     "text": [
      "The factorial of 5 is: 120\n"
     ]
    }
   ],
   "source": [
    "def factorial(n):\n",
    "    if n < 0:\n",
    "        return \"Factorial is not defined for negative numbers.\"\n",
    "    result = 1\n",
    "    for i in range(2, n + 1):\n",
    "        result *= i\n",
    "    return result\n",
    "\n",
    "# Example usage\n",
    "n = 5\n",
    "print(f\"The factorial of {n} is: {factorial(n)}\")\n"
   ]
  },
  {
   "cell_type": "code",
   "execution_count": 5,
   "id": "d6c6a97c-5851-499b-b8a7-608eece3df6b",
   "metadata": {},
   "outputs": [
    {
     "name": "stdout",
     "output_type": "stream",
     "text": [
      "The factorial of 5 is: 120\n"
     ]
    }
   ],
   "source": [
    "import math\n",
    "\n",
    "n = 5\n",
    "print(f\"The factorial of {n} is: {math.factorial(n)}\")\n"
   ]
  },
  {
   "cell_type": "markdown",
   "id": "a315d0d3-0801-4d9a-99a4-3925b8091ae0",
   "metadata": {},
   "source": [
    "Reverse a given integer number 7854422210."
   ]
  },
  {
   "cell_type": "code",
   "execution_count": 6,
   "id": "90ac8066-46e9-4af1-922d-ee44638edb3d",
   "metadata": {},
   "outputs": [
    {
     "name": "stdout",
     "output_type": "stream",
     "text": [
      "Reversed number: 122244587\n"
     ]
    }
   ],
   "source": [
    "# Given number\n",
    "num = 7854422210\n",
    "\n",
    "# Convert to string, reverse it, then convert back to integer\n",
    "reversed_num = int(str(num)[::-1])\n",
    "\n",
    "print(f\"Reversed number: {reversed_num}\")\n"
   ]
  },
  {
   "cell_type": "code",
   "execution_count": 7,
   "id": "471f7f7a-dbaa-4017-abd8-df8ef13bc388",
   "metadata": {},
   "outputs": [
    {
     "name": "stdout",
     "output_type": "stream",
     "text": [
      "Reversed number (as string): 0122244587\n"
     ]
    }
   ],
   "source": [
    "num = 7854422210\n",
    "reversed_str = str(num)[::-1]\n",
    "print(f\"Reversed number (as string): {reversed_str}\")\n"
   ]
  },
  {
   "cell_type": "code",
   "execution_count": 9,
   "id": "ac834281-5ce0-4e12-a393-5c5d4c3abf1f",
   "metadata": {},
   "outputs": [
    {
     "data": {
      "text/plain": [
       "'p'"
      ]
     },
     "execution_count": 9,
     "metadata": {},
     "output_type": "execute_result"
    }
   ],
   "source": [
    "data = 'python'\n",
    "data[0]"
   ]
  },
  {
   "cell_type": "code",
   "execution_count": 10,
   "id": "339d8b37-b3a2-47a6-9836-4a1e384ce052",
   "metadata": {},
   "outputs": [
    {
     "data": {
      "text/plain": [
       "'n'"
      ]
     },
     "execution_count": 10,
     "metadata": {},
     "output_type": "execute_result"
    }
   ],
   "source": [
    "data[-1]"
   ]
  },
  {
   "cell_type": "code",
   "execution_count": 11,
   "id": "78d23b63-2d29-4d9e-937c-9b6b7c0052a0",
   "metadata": {},
   "outputs": [
    {
     "name": "stdout",
     "output_type": "stream",
     "text": [
      "p x\n",
      "y x\n",
      "t x\n",
      "h x\n",
      "o x\n",
      "n x\n"
     ]
    }
   ],
   "source": [
    "for x in data:\n",
    "    print(x,'x')"
   ]
  },
  {
   "cell_type": "code",
   "execution_count": 12,
   "id": "b641c701-a6c2-47b8-b7ae-bc9b7a9b43a4",
   "metadata": {},
   "outputs": [
    {
     "data": {
      "text/plain": [
       "range(0, 10)"
      ]
     },
     "execution_count": 12,
     "metadata": {},
     "output_type": "execute_result"
    }
   ],
   "source": [
    "range(10)"
   ]
  },
  {
   "cell_type": "code",
   "execution_count": 13,
   "id": "e07f734d-23ee-49a0-8822-06d44ab01c2e",
   "metadata": {},
   "outputs": [
    {
     "name": "stdout",
     "output_type": "stream",
     "text": [
      "p\n",
      "y\n",
      "t\n",
      "h\n",
      "o\n",
      "n\n"
     ]
    }
   ],
   "source": [
    "for x in range(len(data)):\n",
    "    print(data[x])"
   ]
  },
  {
   "cell_type": "code",
   "execution_count": 14,
   "id": "13777c5b-578a-4db9-8930-61bae03e3bf3",
   "metadata": {},
   "outputs": [
    {
     "data": {
      "text/plain": [
       "6"
      ]
     },
     "execution_count": 14,
     "metadata": {},
     "output_type": "execute_result"
    }
   ],
   "source": [
    "len(data)"
   ]
  },
  {
   "cell_type": "code",
   "execution_count": 15,
   "id": "6a02056b-9323-49e7-9172-68d710e3c71e",
   "metadata": {},
   "outputs": [
    {
     "name": "stdout",
     "output_type": "stream",
     "text": [
      "p\n",
      "y\n",
      "t\n",
      "h\n",
      "o\n",
      "n\n"
     ]
    }
   ],
   "source": [
    "for x in range(6):\n",
    "    print(data[x])"
   ]
  },
  {
   "cell_type": "code",
   "execution_count": 16,
   "id": "be96c903-3407-4d7b-8693-630af11c39f0",
   "metadata": {},
   "outputs": [
    {
     "name": "stdout",
     "output_type": "stream",
     "text": [
      "i\n",
      " \n",
      "l\n",
      "o\n",
      "v\n",
      "e\n",
      " \n",
      "d\n",
      "a\n",
      "t\n",
      "a\n",
      " \n",
      "s\n",
      "c\n",
      "i\n",
      "e\n",
      "n\n",
      "c\n",
      "e\n",
      " \n",
      "s\n",
      "o\n",
      " \n",
      "m\n",
      "u\n",
      "c\n",
      "h\n"
     ]
    }
   ],
   "source": [
    "data = 'i love data science so much'\n",
    "for i in range(len(data)):\n",
    "    print(data[i])"
   ]
  },
  {
   "cell_type": "code",
   "execution_count": 17,
   "id": "f69714ea-8ee3-4051-bc08-3d9769b3ef4d",
   "metadata": {},
   "outputs": [
    {
     "name": "stdout",
     "output_type": "stream",
     "text": [
      "i\n",
      " \n",
      "l\n",
      "o\n",
      "v\n",
      "e\n",
      " \n",
      "d\n",
      "a\n",
      "t\n",
      "a\n",
      " \n",
      "s\n",
      "c\n",
      "i\n",
      "e\n",
      "n\n",
      "c\n",
      "e\n",
      " \n",
      "s\n",
      "o\n",
      " \n",
      "m\n",
      "u\n",
      "c\n",
      "h\n"
     ]
    }
   ],
   "source": [
    "data = 'i love data science so much'\n",
    "for x in range(len(data)):\n",
    "    print(data[x])"
   ]
  },
  {
   "cell_type": "code",
   "execution_count": 18,
   "id": "21cb73b5-0bc6-46d3-befa-ff6ffa83d225",
   "metadata": {},
   "outputs": [
    {
     "data": {
      "text/plain": [
       "['i', 'love', 'data', 'science', 'so', 'much']"
      ]
     },
     "execution_count": 18,
     "metadata": {},
     "output_type": "execute_result"
    }
   ],
   "source": [
    "data.split()"
   ]
  },
  {
   "cell_type": "code",
   "execution_count": 19,
   "id": "4aa154aa-4175-446f-806b-d61fe36cdf18",
   "metadata": {},
   "outputs": [
    {
     "name": "stdout",
     "output_type": "stream",
     "text": [
      "i 0\n",
      "love 1\n",
      "data 2\n",
      "science 3\n",
      "so 4\n",
      "much 5\n"
     ]
    }
   ],
   "source": [
    "data = 'i love data science so much'\n",
    "data = data.split()\n",
    "for i in range(len(data)):\n",
    "    print(data[i],i)"
   ]
  },
  {
   "cell_type": "code",
   "execution_count": 20,
   "id": "9472ea9c-33d1-447b-8b01-2e7f61ad33e3",
   "metadata": {},
   "outputs": [
    {
     "data": {
      "text/plain": [
       "'love'"
      ]
     },
     "execution_count": 20,
     "metadata": {},
     "output_type": "execute_result"
    }
   ],
   "source": [
    "data[1]"
   ]
  },
  {
   "cell_type": "code",
   "execution_count": 21,
   "id": "1b24fe24-9df9-497e-b14c-5882683f58fd",
   "metadata": {},
   "outputs": [
    {
     "name": "stdout",
     "output_type": "stream",
     "text": [
      "301\n"
     ]
    }
   ],
   "source": [
    "n = [2,3,4,55,60,77,100]\n",
    "total = 0\n",
    "for x in n:\n",
    "    total = total+x\n",
    "    #print(total,x)\n",
    "print(total)"
   ]
  },
  {
   "cell_type": "code",
   "execution_count": 22,
   "id": "40270f63-2780-40d7-ac46-4671f174fbed",
   "metadata": {},
   "outputs": [
    {
     "name": "stdout",
     "output_type": "stream",
     "text": [
      "2 2\n",
      "5 3\n",
      "9 4\n",
      "64 55\n",
      "124 60\n",
      "201 77\n",
      "301 100\n",
      "Total 301\n"
     ]
    }
   ],
   "source": [
    "n = [2,3,4,55,60,77,100]\n",
    "total = 0\n",
    "for x in n:\n",
    "    total = total+x\n",
    "    print(total,x)\n",
    "print('Total',total)"
   ]
  },
  {
   "cell_type": "code",
   "execution_count": 23,
   "id": "97860233-51f8-4e6b-bd05-dfff4462e3d6",
   "metadata": {},
   "outputs": [
    {
     "name": "stdout",
     "output_type": "stream",
     "text": [
      "data science 0\n",
      "data science 1\n",
      "data science 2\n",
      "data science 3\n",
      "data science 4\n",
      "data science 5\n",
      "data science 6\n",
      "data science 7\n",
      "data science 8\n",
      "data science 9\n"
     ]
    }
   ],
   "source": [
    "for i in range(10):\n",
    "    print('data science',i)"
   ]
  },
  {
   "cell_type": "code",
   "execution_count": 24,
   "id": "8d0b2366-fd34-4c0d-866d-bcbb8a4d7f64",
   "metadata": {},
   "outputs": [
    {
     "name": "stdout",
     "output_type": "stream",
     "text": [
      "data science 5\n",
      "data science 6\n",
      "data science 7\n",
      "data science 8\n",
      "data science 9\n"
     ]
    }
   ],
   "source": [
    "for i in range(5,10): #n-1\n",
    "    print('data science',i)"
   ]
  },
  {
   "cell_type": "code",
   "execution_count": 25,
   "id": "f267c32d-ea07-43e0-a729-718af6075ed6",
   "metadata": {},
   "outputs": [
    {
     "name": "stdout",
     "output_type": "stream",
     "text": [
      "data science 5\n",
      "data science 7\n",
      "data science 9\n"
     ]
    }
   ],
   "source": [
    "for i in range(5,10,2): # i = i+2\n",
    "    print('data science',i)"
   ]
  },
  {
   "cell_type": "code",
   "execution_count": 26,
   "id": "b3d6abc6-ae3f-4c78-a052-ba731c51a2c6",
   "metadata": {},
   "outputs": [
    {
     "name": "stdout",
     "output_type": "stream",
     "text": [
      "data science 100\n",
      "data science 90\n",
      "data science 80\n",
      "data science 70\n",
      "data science 60\n"
     ]
    }
   ],
   "source": [
    "for i in range(100,50,-10): # i = i+2\n",
    "    print('data science',i)"
   ]
  },
  {
   "cell_type": "code",
   "execution_count": 27,
   "id": "01013277-27ef-48a2-b08b-7a70c6c9645a",
   "metadata": {},
   "outputs": [
    {
     "name": "stdout",
     "output_type": "stream",
     "text": [
      "100\n",
      "98\n",
      "96\n",
      "94\n",
      "92\n",
      "90\n",
      "88\n",
      "86\n",
      "84\n",
      "82\n",
      "80\n",
      "78\n",
      "76\n",
      "74\n",
      "72\n",
      "70\n",
      "68\n",
      "66\n",
      "64\n",
      "62\n",
      "60\n",
      "58\n",
      "56\n",
      "54\n",
      "52\n",
      "50\n",
      "48\n",
      "46\n",
      "44\n",
      "42\n",
      "40\n",
      "38\n",
      "36\n",
      "34\n",
      "32\n",
      "30\n",
      "28\n",
      "26\n",
      "24\n",
      "22\n",
      "20\n",
      "18\n",
      "16\n",
      "14\n",
      "12\n",
      "10\n",
      "8\n",
      "6\n",
      "4\n",
      "2\n"
     ]
    }
   ],
   "source": [
    "for i in range(100,0,-2): # i = i+2\n",
    "    print(i)"
   ]
  }
 ],
 "metadata": {
  "kernelspec": {
   "display_name": "Python 3 (ipykernel)",
   "language": "python",
   "name": "python3"
  },
  "language_info": {
   "codemirror_mode": {
    "name": "ipython",
    "version": 3
   },
   "file_extension": ".py",
   "mimetype": "text/x-python",
   "name": "python",
   "nbconvert_exporter": "python",
   "pygments_lexer": "ipython3",
   "version": "3.13.5"
  }
 },
 "nbformat": 4,
 "nbformat_minor": 5
}
