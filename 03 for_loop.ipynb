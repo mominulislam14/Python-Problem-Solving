{
 "cells": [
  {
   "cell_type": "markdown",
   "id": "00c61039-82fc-42bd-9151-a3ad6d21e037",
   "metadata": {},
   "source": [
    "Display number from -100 to -10 using for loop."
   ]
  },
  {
   "cell_type": "code",
   "execution_count": 2,
   "id": "42924f73-2dde-4134-ba92-25529cb9e97b",
   "metadata": {},
   "outputs": [
    {
     "name": "stdout",
     "output_type": "stream",
     "text": [
      "-100\n",
      "-99\n",
      "-98\n",
      "-97\n",
      "-96\n",
      "-95\n",
      "-94\n",
      "-93\n",
      "-92\n",
      "-91\n"
     ]
    }
   ],
   "source": [
    "for x in range(-100,-90):\n",
    "    print(x)"
   ]
  },
  {
   "cell_type": "markdown",
   "id": "02812c87-1eb6-488a-9b0c-23e1beba8b4f",
   "metadata": {},
   "source": [
    "Write a program to sum all prime numbers within a range 10 to 1000."
   ]
  },
  {
   "cell_type": "code",
   "execution_count": 3,
   "id": "e37d7064-7ebd-4a30-b798-927f267f3fc3",
   "metadata": {},
   "outputs": [
    {
     "name": "stdout",
     "output_type": "stream",
     "text": [
      "Sum of prime numbers from 10 to 1000 is: 76110\n"
     ]
    }
   ],
   "source": [
    "def is_prime(n):\n",
    "    if n < 2:\n",
    "        return False\n",
    "    for i in range(2, int(n**0.5) + 1):\n",
    "        if n % i == 0:\n",
    "            return False\n",
    "    return True\n",
    "\n",
    "def sum_primes(start, end):\n",
    "    return sum(num for num in range(start, end + 1) if is_prime(num))\n",
    "\n",
    "# Define the range\n",
    "start = 10\n",
    "end = 1000\n",
    "\n",
    "# Calculate and print the sum of primes\n",
    "total = sum_primes(start, end)\n",
    "print(f\"Sum of prime numbers from {start} to {end} is: {total}\")"
   ]
  },
  {
   "cell_type": "markdown",
   "id": "45be0b1b-315c-409a-a793-f9f2656e46f0",
   "metadata": {},
   "source": [
    "Find the factorial of n! "
   ]
  },
  {
   "cell_type": "code",
   "execution_count": 4,
   "id": "457a07db-9c3b-4b50-8ab1-32a5b90a4e6c",
   "metadata": {},
   "outputs": [
    {
     "name": "stdout",
     "output_type": "stream",
     "text": [
      "The factorial of 5 is: 120\n"
     ]
    }
   ],
   "source": [
    "def factorial(n):\n",
    "    if n < 0:\n",
    "        return \"Factorial is not defined for negative numbers.\"\n",
    "    result = 1\n",
    "    for i in range(2, n + 1):\n",
    "        result *= i\n",
    "    return result\n",
    "\n",
    "# Example usage\n",
    "n = 5\n",
    "print(f\"The factorial of {n} is: {factorial(n)}\")\n"
   ]
  },
  {
   "cell_type": "code",
   "execution_count": 5,
   "id": "d6c6a97c-5851-499b-b8a7-608eece3df6b",
   "metadata": {},
   "outputs": [
    {
     "name": "stdout",
     "output_type": "stream",
     "text": [
      "The factorial of 5 is: 120\n"
     ]
    }
   ],
   "source": [
    "import math\n",
    "\n",
    "n = 5\n",
    "print(f\"The factorial of {n} is: {math.factorial(n)}\")\n"
   ]
  },
  {
   "cell_type": "markdown",
   "id": "a315d0d3-0801-4d9a-99a4-3925b8091ae0",
   "metadata": {},
   "source": [
    "Reverse a given integer number 7854422210."
   ]
  },
  {
   "cell_type": "code",
   "execution_count": 6,
   "id": "90ac8066-46e9-4af1-922d-ee44638edb3d",
   "metadata": {},
   "outputs": [
    {
     "name": "stdout",
     "output_type": "stream",
     "text": [
      "Reversed number: 122244587\n"
     ]
    }
   ],
   "source": [
    "# Given number\n",
    "num = 7854422210\n",
    "\n",
    "# Convert to string, reverse it, then convert back to integer\n",
    "reversed_num = int(str(num)[::-1])\n",
    "\n",
    "print(f\"Reversed number: {reversed_num}\")\n"
   ]
  },
  {
   "cell_type": "code",
   "execution_count": 7,
   "id": "471f7f7a-dbaa-4017-abd8-df8ef13bc388",
   "metadata": {},
   "outputs": [
    {
     "name": "stdout",
     "output_type": "stream",
     "text": [
      "Reversed number (as string): 0122244587\n"
     ]
    }
   ],
   "source": [
    "num = 7854422210\n",
    "reversed_str = str(num)[::-1]\n",
    "print(f\"Reversed number (as string): {reversed_str}\")\n"
   ]
  },
  {
   "cell_type": "code",
   "execution_count": null,
   "id": "9ccb86cc-9fa2-4c39-819d-7bfed5efd96c",
   "metadata": {},
   "outputs": [],
   "source": []
  }
 ],
 "metadata": {
  "kernelspec": {
   "display_name": "Python 3 (ipykernel)",
   "language": "python",
   "name": "python3"
  },
  "language_info": {
   "codemirror_mode": {
    "name": "ipython",
    "version": 3
   },
   "file_extension": ".py",
   "mimetype": "text/x-python",
   "name": "python",
   "nbconvert_exporter": "python",
   "pygments_lexer": "ipython3",
   "version": "3.13.5"
  }
 },
 "nbformat": 4,
 "nbformat_minor": 5
}
